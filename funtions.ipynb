{
 "cells": [
  {
   "cell_type": "code",
   "execution_count": 1,
   "id": "f79c0fd8",
   "metadata": {},
   "outputs": [],
   "source": [
    "#funtions\n"
   ]
  },
  {
   "cell_type": "code",
   "execution_count": 2,
   "id": "301e4cf5",
   "metadata": {},
   "outputs": [],
   "source": [
    "def firstfuntion():\n",
    "    print(\"hi you!!!!!!!\")"
   ]
  },
  {
   "cell_type": "code",
   "execution_count": 3,
   "id": "eed8f527",
   "metadata": {},
   "outputs": [
    {
     "name": "stdout",
     "output_type": "stream",
     "text": [
      "hi you!!!!!!!\n"
     ]
    }
   ],
   "source": [
    "firstfuntion()"
   ]
  },
  {
   "cell_type": "code",
   "execution_count": 4,
   "id": "9cce42da",
   "metadata": {},
   "outputs": [],
   "source": [
    "def greeting(user):\n",
    "    print(\"welcome to the sheet\",user)"
   ]
  },
  {
   "cell_type": "code",
   "execution_count": 7,
   "id": "e2eeb48e",
   "metadata": {},
   "outputs": [
    {
     "name": "stdout",
     "output_type": "stream",
     "text": [
      "welcome to the sheet suma\n"
     ]
    }
   ],
   "source": [
    "greeting(\"suma\")"
   ]
  },
  {
   "cell_type": "code",
   "execution_count": 8,
   "id": "dc469f7f",
   "metadata": {},
   "outputs": [],
   "source": [
    "def describe_pets(animal_type,pet_name):\n",
    "    print(f\"\\n i have a {animal_type}\")\n",
    "    print(f\"my {animal_type}'s name is {pet_name.upper()}\")"
   ]
  },
  {
   "cell_type": "code",
   "execution_count": 9,
   "id": "08139a87",
   "metadata": {},
   "outputs": [
    {
     "name": "stdout",
     "output_type": "stream",
     "text": [
      "\n",
      " i have a dog\n",
      "my dog's name is BRUNO\n"
     ]
    }
   ],
   "source": [
    "describe_pets('dog','bruno')"
   ]
  },
  {
   "cell_type": "code",
   "execution_count": 10,
   "id": "cf39b574",
   "metadata": {},
   "outputs": [],
   "source": [
    "def describe_pets(animal_type,pet_name,):             \n",
    "    print(f\"\\n i have a {animal_type}\")\n",
    "    print(f\"my {animal_type}'s name is {pet_name.upper()}\")"
   ]
  },
  {
   "cell_type": "code",
   "execution_count": 11,
   "id": "cc7bbf15",
   "metadata": {},
   "outputs": [
    {
     "name": "stdout",
     "output_type": "stream",
     "text": [
      "\n",
      " i have a dog\n",
      "my dog's name is SNOWBALL\n"
     ]
    }
   ],
   "source": [
    "describe_pets(pet_name='snowball',animal_type='dog')"
   ]
  },
  {
   "cell_type": "code",
   "execution_count": 12,
   "id": "89b4d84d",
   "metadata": {},
   "outputs": [],
   "source": [
    "def describe_pets(animal_type='dog',pet_name='kitty'):             \n",
    "    print(f\"\\n i have a {animal_type}\")\n",
    "    print(f\"my {animal_type}'s name is {pet_name.upper()}\")"
   ]
  },
  {
   "cell_type": "code",
   "execution_count": 13,
   "id": "b1885103",
   "metadata": {},
   "outputs": [
    {
     "name": "stdout",
     "output_type": "stream",
     "text": [
      "\n",
      " i have a dog\n",
      "my dog's name is KITTY\n"
     ]
    }
   ],
   "source": [
    "describe_pets()"
   ]
  },
  {
   "cell_type": "code",
   "execution_count": null,
   "id": "e9bcb6aa",
   "metadata": {},
   "outputs": [],
   "source": []
  }
 ],
 "metadata": {
  "kernelspec": {
   "display_name": "Python 3",
   "language": "python",
   "name": "python3"
  },
  "language_info": {
   "codemirror_mode": {
    "name": "ipython",
    "version": 3
   },
   "file_extension": ".py",
   "mimetype": "text/x-python",
   "name": "python",
   "nbconvert_exporter": "python",
   "pygments_lexer": "ipython3",
   "version": "3.8.8"
  }
 },
 "nbformat": 4,
 "nbformat_minor": 5
}
