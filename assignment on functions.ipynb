{
 "cells": [
  {
   "cell_type": "markdown",
   "id": "60a797ea",
   "metadata": {},
   "source": [
    "# assignment\n"
   ]
  },
  {
   "cell_type": "markdown",
   "id": "a1787c22",
   "metadata": {},
   "source": [
    "1.T-shirt\n"
   ]
  },
  {
   "cell_type": "code",
   "execution_count": 8,
   "id": "3dd37bd2",
   "metadata": {},
   "outputs": [],
   "source": [
    "def make_shirt(size,msg):\n",
    "    print(f\"this shirt is of size {size} with a text {msg.upper()} on it\")"
   ]
  },
  {
   "cell_type": "code",
   "execution_count": 6,
   "id": "32a51c05",
   "metadata": {},
   "outputs": [
    {
     "name": "stdout",
     "output_type": "stream",
     "text": [
      "this shirt is of size small with a text HELLO SUNSHINE on it\n"
     ]
    }
   ],
   "source": [
    "make_shirt(\"small\",\"hello sunshine\")"
   ]
  },
  {
   "cell_type": "code",
   "execution_count": 9,
   "id": "08ac6a61",
   "metadata": {},
   "outputs": [
    {
     "name": "stdout",
     "output_type": "stream",
     "text": [
      "this shirt is of size medium with a text HELLO on it\n"
     ]
    }
   ],
   "source": [
    "make_shirt(msg=\"hello\",size=\"medium\")"
   ]
  },
  {
   "cell_type": "markdown",
   "id": "df3f8d79",
   "metadata": {},
   "source": [
    "2.large_shirt"
   ]
  },
  {
   "cell_type": "code",
   "execution_count": 19,
   "id": "6b08ff2d",
   "metadata": {},
   "outputs": [],
   "source": [
    "def make_shirt(size=\"large\",msg=\"i love python\"):\n",
    "    print(f\"this shirt is of size {size} with a text {msg.upper()} on it\")"
   ]
  },
  {
   "cell_type": "code",
   "execution_count": 20,
   "id": "7d0a4f7e",
   "metadata": {},
   "outputs": [
    {
     "name": "stdout",
     "output_type": "stream",
     "text": [
      "this shirt is of size large with a text I LOVE PYTHON on it\n"
     ]
    }
   ],
   "source": [
    "make_shirt()"
   ]
  },
  {
   "cell_type": "code",
   "execution_count": 21,
   "id": "0a0fff0e",
   "metadata": {},
   "outputs": [
    {
     "name": "stdout",
     "output_type": "stream",
     "text": [
      "this shirt is of size medium with a text I LOVE PYTHON on it\n"
     ]
    }
   ],
   "source": [
    "make_shirt(\"medium\")"
   ]
  },
  {
   "cell_type": "code",
   "execution_count": 22,
   "id": "f1114ea7",
   "metadata": {},
   "outputs": [
    {
     "name": "stdout",
     "output_type": "stream",
     "text": [
      "this shirt is of size small with a text I LOVE THIS COURSE on it\n"
     ]
    }
   ],
   "source": [
    "make_shirt(\"small\",\"i love this course\")"
   ]
  },
  {
   "cell_type": "markdown",
   "id": "664d8ff8",
   "metadata": {},
   "source": [
    "3.cities"
   ]
  },
  {
   "cell_type": "code",
   "execution_count": 24,
   "id": "91a17c25",
   "metadata": {},
   "outputs": [],
   "source": [
    "def describe_city(city,country=\"india\"):\n",
    "    print(f\"{city.upper()} is in {country.upper()}\")\n",
    "    "
   ]
  },
  {
   "cell_type": "code",
   "execution_count": 25,
   "id": "1be052f4",
   "metadata": {},
   "outputs": [
    {
     "name": "stdout",
     "output_type": "stream",
     "text": [
      "WARANGAL is in INDIA\n"
     ]
    }
   ],
   "source": [
    "describe_city(\"warangal\")"
   ]
  },
  {
   "cell_type": "code",
   "execution_count": 26,
   "id": "ad8c102b",
   "metadata": {},
   "outputs": [
    {
     "name": "stdout",
     "output_type": "stream",
     "text": [
      "HYDERABAD is in INDIA\n"
     ]
    }
   ],
   "source": [
    "describe_city(\"hyderabad\")"
   ]
  },
  {
   "cell_type": "code",
   "execution_count": 27,
   "id": "76c25436",
   "metadata": {},
   "outputs": [
    {
     "name": "stdout",
     "output_type": "stream",
     "text": [
      "GAGANAM is in SOUTH KOREA\n"
     ]
    }
   ],
   "source": [
    "describe_city(\"gaganam\",\"south korea\")"
   ]
  },
  {
   "cell_type": "code",
   "execution_count": null,
   "id": "39a2be59",
   "metadata": {},
   "outputs": [],
   "source": []
  }
 ],
 "metadata": {
  "kernelspec": {
   "display_name": "Python 3",
   "language": "python",
   "name": "python3"
  },
  "language_info": {
   "codemirror_mode": {
    "name": "ipython",
    "version": 3
   },
   "file_extension": ".py",
   "mimetype": "text/x-python",
   "name": "python",
   "nbconvert_exporter": "python",
   "pygments_lexer": "ipython3",
   "version": "3.8.8"
  }
 },
 "nbformat": 4,
 "nbformat_minor": 5
}
